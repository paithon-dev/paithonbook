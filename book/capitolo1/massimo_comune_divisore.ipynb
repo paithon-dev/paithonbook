{
 "cells": [
  {
   "cell_type": "markdown",
   "metadata": {},
   "source": [
    "# Python e le sue Applicazioni nell'AI\n",
    "\n",
    "Uno degli scopi di questo libro è introdurre i principali concetti di Machine Learning, Deep Learning e Reinforcement Learning, in modo da poter fornire gli strumenti utili a sviluppare un’idea di business, un applicativo intelligente o riconoscere l’AI nelle tecnologie presenti e future. E quale linguaggio migliore se non Python per esplorare questi concetti?\n",
    "\n",
    "Python è diventato uno dei linguaggi di programmazione più utilizzati e amati per l’intelligenza artificiale grazie alla sua semplicità e alla potenza delle sue librerie dedicate come PyTorch."
   ]
  },
  {
   "cell_type": "markdown",
   "metadata": {},
   "source": [
    "## Calcolare il Massimo Comune Divisore"
   ]
  },
  {
   "cell_type": "code",
   "execution_count": 1,
   "metadata": {},
   "outputs": [
    {
     "name": "stdout",
     "output_type": "stream",
     "text": [
      "12\n"
     ]
    }
   ],
   "source": [
    "# Definizione funzione che riceve in input due interi\n",
    "\n",
    "def mcd(a, b):\n",
    "    while b:\n",
    "        a, b = b, a % b\n",
    "    return a\n",
    "\n",
    "# Esempio di utilizzo\n",
    "\n",
    "print(mcd(60, 48))\n"
   ]
  },
  {
   "cell_type": "markdown",
   "metadata": {},
   "source": [
    "Questo semplice algoritmo, noto come algoritmo di Euclide, è uno dei primi esempi di come un problema complesso possa essere risolto in modo efficiente con un approccio intelligente."
   ]
  }
 ],
 "metadata": {
  "kernelspec": {
   "display_name": "base",
   "language": "python",
   "name": "python3"
  },
  "language_info": {
   "codemirror_mode": {
    "name": "ipython",
    "version": 3
   },
   "file_extension": ".py",
   "mimetype": "text/x-python",
   "name": "python",
   "nbconvert_exporter": "python",
   "pygments_lexer": "ipython3",
   "version": "3.12.3"
  }
 },
 "nbformat": 4,
 "nbformat_minor": 2
}
